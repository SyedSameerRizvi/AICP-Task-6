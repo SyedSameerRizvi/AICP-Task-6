{
  "nbformat": 4,
  "nbformat_minor": 0,
  "metadata": {
    "colab": {
      "provenance": []
    },
    "kernelspec": {
      "name": "python3",
      "display_name": "Python 3"
    },
    "language_info": {
      "name": "python"
    }
  },
  "cells": [
    {
      "cell_type": "markdown",
      "source": [
        "#Name: Syed Sameer Rizvi\n",
        "\n",
        "#AICP Task Week 6"
      ],
      "metadata": {
        "id": "idC-hBjGJKei"
      }
    },
    {
      "cell_type": "code",
      "source": [
        "import pandas as pd\n",
        "import matplotlib.pyplot as plt"
      ],
      "metadata": {
        "id": "avraC8mOJVlw"
      },
      "execution_count": 16,
      "outputs": []
    },
    {
      "cell_type": "markdown",
      "source": [
        "Q.1: Add a new column “Decade” by calculating. For example 1969 will be 1960, 1988 will 1980 etc.\n"
      ],
      "metadata": {
        "id": "DpqK-Y2pJKX5"
      }
    },
    {
      "cell_type": "code",
      "execution_count": 12,
      "metadata": {
        "id": "o9Nbdr8FJJQS"
      },
      "outputs": [],
      "source": [
        "df = pd.read_csv(\"births.csv\")\n",
        "df['Decade'] = (df['year'] // 10) * 10\n",
        "df.to_csv(\"births_modified.csv\", index=False)"
      ]
    },
    {
      "cell_type": "markdown",
      "source": [
        "Q.2: Show the descriptive statistics of the data.\n"
      ],
      "metadata": {
        "id": "_w_dGgyfjeAN"
      }
    },
    {
      "cell_type": "code",
      "source": [
        "df.describe()"
      ],
      "metadata": {
        "colab": {
          "base_uri": "https://localhost:8080/",
          "height": 300
        },
        "id": "1E-v5fRNjgrj",
        "outputId": "c77d3f4e-2e7e-4aaf-b46c-418906dd8e74"
      },
      "execution_count": 13,
      "outputs": [
        {
          "output_type": "execute_result",
          "data": {
            "text/plain": [
              "               year         month           day         births        Decade\n",
              "count  15547.000000  15547.000000  15067.000000   15547.000000  15547.000000\n",
              "mean    1979.037435      6.515919     17.769894    9762.293561   1974.544285\n",
              "std        6.728340      3.449632     15.284034   28552.465810      6.789583\n",
              "min     1969.000000      1.000000      1.000000       1.000000   1960.000000\n",
              "25%     1974.000000      4.000000      8.000000    4358.000000   1970.000000\n",
              "50%     1979.000000      7.000000     16.000000    4814.000000   1970.000000\n",
              "75%     1984.000000     10.000000     24.000000    5289.500000   1980.000000\n",
              "max     2008.000000     12.000000     99.000000  199622.000000   2000.000000"
            ],
            "text/html": [
              "\n",
              "  <div id=\"df-597915d2-0be0-4ae8-aa80-5fee63e98514\" class=\"colab-df-container\">\n",
              "    <div>\n",
              "<style scoped>\n",
              "    .dataframe tbody tr th:only-of-type {\n",
              "        vertical-align: middle;\n",
              "    }\n",
              "\n",
              "    .dataframe tbody tr th {\n",
              "        vertical-align: top;\n",
              "    }\n",
              "\n",
              "    .dataframe thead th {\n",
              "        text-align: right;\n",
              "    }\n",
              "</style>\n",
              "<table border=\"1\" class=\"dataframe\">\n",
              "  <thead>\n",
              "    <tr style=\"text-align: right;\">\n",
              "      <th></th>\n",
              "      <th>year</th>\n",
              "      <th>month</th>\n",
              "      <th>day</th>\n",
              "      <th>births</th>\n",
              "      <th>Decade</th>\n",
              "    </tr>\n",
              "  </thead>\n",
              "  <tbody>\n",
              "    <tr>\n",
              "      <th>count</th>\n",
              "      <td>15547.000000</td>\n",
              "      <td>15547.000000</td>\n",
              "      <td>15067.000000</td>\n",
              "      <td>15547.000000</td>\n",
              "      <td>15547.000000</td>\n",
              "    </tr>\n",
              "    <tr>\n",
              "      <th>mean</th>\n",
              "      <td>1979.037435</td>\n",
              "      <td>6.515919</td>\n",
              "      <td>17.769894</td>\n",
              "      <td>9762.293561</td>\n",
              "      <td>1974.544285</td>\n",
              "    </tr>\n",
              "    <tr>\n",
              "      <th>std</th>\n",
              "      <td>6.728340</td>\n",
              "      <td>3.449632</td>\n",
              "      <td>15.284034</td>\n",
              "      <td>28552.465810</td>\n",
              "      <td>6.789583</td>\n",
              "    </tr>\n",
              "    <tr>\n",
              "      <th>min</th>\n",
              "      <td>1969.000000</td>\n",
              "      <td>1.000000</td>\n",
              "      <td>1.000000</td>\n",
              "      <td>1.000000</td>\n",
              "      <td>1960.000000</td>\n",
              "    </tr>\n",
              "    <tr>\n",
              "      <th>25%</th>\n",
              "      <td>1974.000000</td>\n",
              "      <td>4.000000</td>\n",
              "      <td>8.000000</td>\n",
              "      <td>4358.000000</td>\n",
              "      <td>1970.000000</td>\n",
              "    </tr>\n",
              "    <tr>\n",
              "      <th>50%</th>\n",
              "      <td>1979.000000</td>\n",
              "      <td>7.000000</td>\n",
              "      <td>16.000000</td>\n",
              "      <td>4814.000000</td>\n",
              "      <td>1970.000000</td>\n",
              "    </tr>\n",
              "    <tr>\n",
              "      <th>75%</th>\n",
              "      <td>1984.000000</td>\n",
              "      <td>10.000000</td>\n",
              "      <td>24.000000</td>\n",
              "      <td>5289.500000</td>\n",
              "      <td>1980.000000</td>\n",
              "    </tr>\n",
              "    <tr>\n",
              "      <th>max</th>\n",
              "      <td>2008.000000</td>\n",
              "      <td>12.000000</td>\n",
              "      <td>99.000000</td>\n",
              "      <td>199622.000000</td>\n",
              "      <td>2000.000000</td>\n",
              "    </tr>\n",
              "  </tbody>\n",
              "</table>\n",
              "</div>\n",
              "    <div class=\"colab-df-buttons\">\n",
              "\n",
              "  <div class=\"colab-df-container\">\n",
              "    <button class=\"colab-df-convert\" onclick=\"convertToInteractive('df-597915d2-0be0-4ae8-aa80-5fee63e98514')\"\n",
              "            title=\"Convert this dataframe to an interactive table.\"\n",
              "            style=\"display:none;\">\n",
              "\n",
              "  <svg xmlns=\"http://www.w3.org/2000/svg\" height=\"24px\" viewBox=\"0 -960 960 960\">\n",
              "    <path d=\"M120-120v-720h720v720H120Zm60-500h600v-160H180v160Zm220 220h160v-160H400v160Zm0 220h160v-160H400v160ZM180-400h160v-160H180v160Zm440 0h160v-160H620v160ZM180-180h160v-160H180v160Zm440 0h160v-160H620v160Z\"/>\n",
              "  </svg>\n",
              "    </button>\n",
              "\n",
              "  <style>\n",
              "    .colab-df-container {\n",
              "      display:flex;\n",
              "      gap: 12px;\n",
              "    }\n",
              "\n",
              "    .colab-df-convert {\n",
              "      background-color: #E8F0FE;\n",
              "      border: none;\n",
              "      border-radius: 50%;\n",
              "      cursor: pointer;\n",
              "      display: none;\n",
              "      fill: #1967D2;\n",
              "      height: 32px;\n",
              "      padding: 0 0 0 0;\n",
              "      width: 32px;\n",
              "    }\n",
              "\n",
              "    .colab-df-convert:hover {\n",
              "      background-color: #E2EBFA;\n",
              "      box-shadow: 0px 1px 2px rgba(60, 64, 67, 0.3), 0px 1px 3px 1px rgba(60, 64, 67, 0.15);\n",
              "      fill: #174EA6;\n",
              "    }\n",
              "\n",
              "    .colab-df-buttons div {\n",
              "      margin-bottom: 4px;\n",
              "    }\n",
              "\n",
              "    [theme=dark] .colab-df-convert {\n",
              "      background-color: #3B4455;\n",
              "      fill: #D2E3FC;\n",
              "    }\n",
              "\n",
              "    [theme=dark] .colab-df-convert:hover {\n",
              "      background-color: #434B5C;\n",
              "      box-shadow: 0px 1px 3px 1px rgba(0, 0, 0, 0.15);\n",
              "      filter: drop-shadow(0px 1px 2px rgba(0, 0, 0, 0.3));\n",
              "      fill: #FFFFFF;\n",
              "    }\n",
              "  </style>\n",
              "\n",
              "    <script>\n",
              "      const buttonEl =\n",
              "        document.querySelector('#df-597915d2-0be0-4ae8-aa80-5fee63e98514 button.colab-df-convert');\n",
              "      buttonEl.style.display =\n",
              "        google.colab.kernel.accessAllowed ? 'block' : 'none';\n",
              "\n",
              "      async function convertToInteractive(key) {\n",
              "        const element = document.querySelector('#df-597915d2-0be0-4ae8-aa80-5fee63e98514');\n",
              "        const dataTable =\n",
              "          await google.colab.kernel.invokeFunction('convertToInteractive',\n",
              "                                                    [key], {});\n",
              "        if (!dataTable) return;\n",
              "\n",
              "        const docLinkHtml = 'Like what you see? Visit the ' +\n",
              "          '<a target=\"_blank\" href=https://colab.research.google.com/notebooks/data_table.ipynb>data table notebook</a>'\n",
              "          + ' to learn more about interactive tables.';\n",
              "        element.innerHTML = '';\n",
              "        dataTable['output_type'] = 'display_data';\n",
              "        await google.colab.output.renderOutput(dataTable, element);\n",
              "        const docLink = document.createElement('div');\n",
              "        docLink.innerHTML = docLinkHtml;\n",
              "        element.appendChild(docLink);\n",
              "      }\n",
              "    </script>\n",
              "  </div>\n",
              "\n",
              "\n",
              "<div id=\"df-ca5753ec-cace-435a-9b6c-67c0453778d6\">\n",
              "  <button class=\"colab-df-quickchart\" onclick=\"quickchart('df-ca5753ec-cace-435a-9b6c-67c0453778d6')\"\n",
              "            title=\"Suggest charts\"\n",
              "            style=\"display:none;\">\n",
              "\n",
              "<svg xmlns=\"http://www.w3.org/2000/svg\" height=\"24px\"viewBox=\"0 0 24 24\"\n",
              "     width=\"24px\">\n",
              "    <g>\n",
              "        <path d=\"M19 3H5c-1.1 0-2 .9-2 2v14c0 1.1.9 2 2 2h14c1.1 0 2-.9 2-2V5c0-1.1-.9-2-2-2zM9 17H7v-7h2v7zm4 0h-2V7h2v10zm4 0h-2v-4h2v4z\"/>\n",
              "    </g>\n",
              "</svg>\n",
              "  </button>\n",
              "\n",
              "<style>\n",
              "  .colab-df-quickchart {\n",
              "      --bg-color: #E8F0FE;\n",
              "      --fill-color: #1967D2;\n",
              "      --hover-bg-color: #E2EBFA;\n",
              "      --hover-fill-color: #174EA6;\n",
              "      --disabled-fill-color: #AAA;\n",
              "      --disabled-bg-color: #DDD;\n",
              "  }\n",
              "\n",
              "  [theme=dark] .colab-df-quickchart {\n",
              "      --bg-color: #3B4455;\n",
              "      --fill-color: #D2E3FC;\n",
              "      --hover-bg-color: #434B5C;\n",
              "      --hover-fill-color: #FFFFFF;\n",
              "      --disabled-bg-color: #3B4455;\n",
              "      --disabled-fill-color: #666;\n",
              "  }\n",
              "\n",
              "  .colab-df-quickchart {\n",
              "    background-color: var(--bg-color);\n",
              "    border: none;\n",
              "    border-radius: 50%;\n",
              "    cursor: pointer;\n",
              "    display: none;\n",
              "    fill: var(--fill-color);\n",
              "    height: 32px;\n",
              "    padding: 0;\n",
              "    width: 32px;\n",
              "  }\n",
              "\n",
              "  .colab-df-quickchart:hover {\n",
              "    background-color: var(--hover-bg-color);\n",
              "    box-shadow: 0 1px 2px rgba(60, 64, 67, 0.3), 0 1px 3px 1px rgba(60, 64, 67, 0.15);\n",
              "    fill: var(--button-hover-fill-color);\n",
              "  }\n",
              "\n",
              "  .colab-df-quickchart-complete:disabled,\n",
              "  .colab-df-quickchart-complete:disabled:hover {\n",
              "    background-color: var(--disabled-bg-color);\n",
              "    fill: var(--disabled-fill-color);\n",
              "    box-shadow: none;\n",
              "  }\n",
              "\n",
              "  .colab-df-spinner {\n",
              "    border: 2px solid var(--fill-color);\n",
              "    border-color: transparent;\n",
              "    border-bottom-color: var(--fill-color);\n",
              "    animation:\n",
              "      spin 1s steps(1) infinite;\n",
              "  }\n",
              "\n",
              "  @keyframes spin {\n",
              "    0% {\n",
              "      border-color: transparent;\n",
              "      border-bottom-color: var(--fill-color);\n",
              "      border-left-color: var(--fill-color);\n",
              "    }\n",
              "    20% {\n",
              "      border-color: transparent;\n",
              "      border-left-color: var(--fill-color);\n",
              "      border-top-color: var(--fill-color);\n",
              "    }\n",
              "    30% {\n",
              "      border-color: transparent;\n",
              "      border-left-color: var(--fill-color);\n",
              "      border-top-color: var(--fill-color);\n",
              "      border-right-color: var(--fill-color);\n",
              "    }\n",
              "    40% {\n",
              "      border-color: transparent;\n",
              "      border-right-color: var(--fill-color);\n",
              "      border-top-color: var(--fill-color);\n",
              "    }\n",
              "    60% {\n",
              "      border-color: transparent;\n",
              "      border-right-color: var(--fill-color);\n",
              "    }\n",
              "    80% {\n",
              "      border-color: transparent;\n",
              "      border-right-color: var(--fill-color);\n",
              "      border-bottom-color: var(--fill-color);\n",
              "    }\n",
              "    90% {\n",
              "      border-color: transparent;\n",
              "      border-bottom-color: var(--fill-color);\n",
              "    }\n",
              "  }\n",
              "</style>\n",
              "\n",
              "  <script>\n",
              "    async function quickchart(key) {\n",
              "      const quickchartButtonEl =\n",
              "        document.querySelector('#' + key + ' button');\n",
              "      quickchartButtonEl.disabled = true;  // To prevent multiple clicks.\n",
              "      quickchartButtonEl.classList.add('colab-df-spinner');\n",
              "      try {\n",
              "        const charts = await google.colab.kernel.invokeFunction(\n",
              "            'suggestCharts', [key], {});\n",
              "      } catch (error) {\n",
              "        console.error('Error during call to suggestCharts:', error);\n",
              "      }\n",
              "      quickchartButtonEl.classList.remove('colab-df-spinner');\n",
              "      quickchartButtonEl.classList.add('colab-df-quickchart-complete');\n",
              "    }\n",
              "    (() => {\n",
              "      let quickchartButtonEl =\n",
              "        document.querySelector('#df-ca5753ec-cace-435a-9b6c-67c0453778d6 button');\n",
              "      quickchartButtonEl.style.display =\n",
              "        google.colab.kernel.accessAllowed ? 'block' : 'none';\n",
              "    })();\n",
              "  </script>\n",
              "</div>\n",
              "\n",
              "    </div>\n",
              "  </div>\n"
            ],
            "application/vnd.google.colaboratory.intrinsic+json": {
              "type": "dataframe",
              "summary": "{\n  \"name\": \"df\",\n  \"rows\": 8,\n  \"fields\": [\n    {\n      \"column\": \"year\",\n      \"properties\": {\n        \"dtype\": \"number\",\n        \"std\": 4944.240841601288,\n        \"min\": 6.728340479307004,\n        \"max\": 15547.0,\n        \"num_unique_values\": 8,\n        \"samples\": [\n          1979.0374348748956,\n          1979.0,\n          15547.0\n        ],\n        \"semantic_type\": \"\",\n        \"description\": \"\"\n      }\n    },\n    {\n      \"column\": \"month\",\n      \"properties\": {\n        \"dtype\": \"number\",\n        \"std\": 5494.475114709737,\n        \"min\": 1.0,\n        \"max\": 15547.0,\n        \"num_unique_values\": 8,\n        \"samples\": [\n          6.515919469994211,\n          7.0,\n          15547.0\n        ],\n        \"semantic_type\": \"\",\n        \"description\": \"\"\n      }\n    },\n    {\n      \"column\": \"day\",\n      \"properties\": {\n        \"dtype\": \"number\",\n        \"std\": 5317.932503661157,\n        \"min\": 1.0,\n        \"max\": 15067.0,\n        \"num_unique_values\": 8,\n        \"samples\": [\n          17.769894471361255,\n          16.0,\n          15067.0\n        ],\n        \"semantic_type\": \"\",\n        \"description\": \"\"\n      }\n    },\n    {\n      \"column\": \"births\",\n      \"properties\": {\n        \"dtype\": \"number\",\n        \"std\": 67714.67830407167,\n        \"min\": 1.0,\n        \"max\": 199622.0,\n        \"num_unique_values\": 8,\n        \"samples\": [\n          9762.293561458802,\n          4814.0,\n          15547.0\n        ],\n        \"semantic_type\": \"\",\n        \"description\": \"\"\n      }\n    },\n    {\n      \"column\": \"Decade\",\n      \"properties\": {\n        \"dtype\": \"number\",\n        \"std\": 4945.846519421296,\n        \"min\": 6.789582778527833,\n        \"max\": 15547.0,\n        \"num_unique_values\": 7,\n        \"samples\": [\n          15547.0,\n          1974.544285071075,\n          1980.0\n        ],\n        \"semantic_type\": \"\",\n        \"description\": \"\"\n      }\n    }\n  ]\n}"
            }
          },
          "metadata": {},
          "execution_count": 13
        }
      ]
    },
    {
      "cell_type": "markdown",
      "source": [
        "Q.3: Check if your data contains any missing values\n"
      ],
      "metadata": {
        "id": "6wKwt9atjm8M"
      }
    },
    {
      "cell_type": "code",
      "source": [
        "df.dropna(inplace=True) #It contained good amount of missing values\n",
        "df.isnull().sum()"
      ],
      "metadata": {
        "colab": {
          "base_uri": "https://localhost:8080/"
        },
        "id": "IHnKj-c4jr63",
        "outputId": "eff7564d-d4e1-4f93-fdda-90a5f1ea96f0"
      },
      "execution_count": 15,
      "outputs": [
        {
          "output_type": "execute_result",
          "data": {
            "text/plain": [
              "year      0\n",
              "month     0\n",
              "day       0\n",
              "gender    0\n",
              "births    0\n",
              "Decade    0\n",
              "dtype: int64"
            ]
          },
          "metadata": {},
          "execution_count": 15
        }
      ]
    },
    {
      "cell_type": "markdown",
      "source": [
        "Q.4: What is the trend of male & female births every decade?"
      ],
      "metadata": {
        "id": "wMBtdcZJkExS"
      }
    },
    {
      "cell_type": "code",
      "source": [
        "trend = df.groupby(['Decade', 'gender']).size().unstack()\n",
        "trend.plot(kind='bar', stacked=True, figsize=(10, 6))\n",
        "plt.title('Trend of male & female births every decade')\n",
        "plt.xlabel('Decade')\n",
        "plt.ylabel('Number of births')\n",
        "plt.xticks(rotation=45)\n",
        "plt.legend(title='Gender')\n",
        "plt.show()"
      ],
      "metadata": {
        "colab": {
          "base_uri": "https://localhost:8080/",
          "height": 585
        },
        "id": "XEYA9wfCkInk",
        "outputId": "012d3f84-3591-4cab-fbdc-53f2240aa9f7"
      },
      "execution_count": 17,
      "outputs": [
        {
          "output_type": "display_data",
          "data": {
            "text/plain": [
              "<Figure size 1000x600 with 1 Axes>"
            ],
            "image/png": "[encoded data removed]"
          },
          "metadata": {}
        }
      ]
    },
    {
      "cell_type": "markdown",
      "source": [
        "Q.5: To remove outliers from dataset following techinque to include only those values that fall within 5\n",
        "standard deviations from the mean.This is a common statistical technique used to focus on the central\n",
        "tendency of the data while excluding extreme values.\n",
        "Use this technique to remove outliers.\n"
      ],
      "metadata": {
        "id": "T8bfposLlbjL"
      }
    },
    {
      "cell_type": "code",
      "source": [
        "zscr= (df['births'] - df['births'].mean()) / df['births'].std()\n",
        "threshold = 5\n",
        "df_2 = df[abs(zscr) < threshold]\n",
        "df_2.to_csv(\"births_no_outliers.csv\", index=False)"
      ],
      "metadata": {
        "id": "K6TPlKQ7o0Oz"
      },
      "execution_count": 20,
      "outputs": []
    },
    {
      "cell_type": "markdown",
      "source": [
        "Q.6: Plot births by weekday for several decades. Write down your observation."
      ],
      "metadata": {
        "id": "yBYnOWnlpPOj"
      }
    },
    {
      "cell_type": "code",
      "source": [
        "df['date'] = df['year'].astype(str) + '-' + df['month'].astype(str) + '-' + df['day'].astype(str)\n",
        "df['date'] = pd.to_datetime(df['date'], errors='coerce')\n",
        "df = df.dropna(subset=['date'])\n",
        "df['weekday'] = df['date'].dt.day_name()\n",
        "births_by_weekday = df.groupby('weekday')['births'].sum()\n",
        "births_by_weekday.plot(kind='bar', figsize=(10, 6))\n",
        "plt.title('Births by weekday')\n",
        "plt.xlabel('Weekday')\n",
        "plt.ylabel('Number of births')\n",
        "plt.xticks(rotation=45)\n",
        "plt.show()"
      ],
      "metadata": {
        "id": "QjMGvQ41pS7b"
      },
      "execution_count": null,
      "outputs": []
    },
    {
      "cell_type": "markdown",
      "source": [
        "Q.7: Group the data by month and day separately\n"
      ],
      "metadata": {
        "id": "O9ZTPF9gs1Yz"
      }
    },
    {
      "cell_type": "code",
      "source": [
        "df = pd.read_csv(\"births_modified.csv\")\n",
        "bbm = df.groupby('month')['births'].sum()\n",
        "bbd = df.groupby('day')['births'].sum()\n",
        "print(\"Births by Month:\")\n",
        "print(bbm)\n",
        "print(\"\\nBirths by Day:\")\n",
        "print(bbm)"
      ],
      "metadata": {
        "colab": {
          "base_uri": "https://localhost:8080/"
        },
        "id": "xmqkE3E7s1q7",
        "outputId": "62b2f6e3-765b-4060-e484-5b16a0eb9310"
      },
      "execution_count": 29,
      "outputs": [
        {
          "output_type": "stream",
          "name": "stdout",
          "text": [
            "Births by Month:\n",
            "month\n",
            "1     12364197\n",
            "2     11541178\n",
            "3     12678844\n",
            "4     12085891\n",
            "5     12624972\n",
            "6     12521070\n",
            "7     13367556\n",
            "8     13528007\n",
            "9     13252831\n",
            "10    12954950\n",
            "11    12197967\n",
            "12    12656915\n",
            "Name: births, dtype: int64\n",
            "\n",
            "Births by Day:\n",
            "month\n",
            "1     12364197\n",
            "2     11541178\n",
            "3     12678844\n",
            "4     12085891\n",
            "5     12624972\n",
            "6     12521070\n",
            "7     13367556\n",
            "8     13528007\n",
            "9     13252831\n",
            "10    12954950\n",
            "11    12197967\n",
            "12    12656915\n",
            "Name: births, dtype: int64\n"
          ]
        }
      ]
    },
    {
      "cell_type": "markdown",
      "source": [
        "Q.8: Focusing on the month and day only, you have a time series reflecting the average number of\n",
        "births by date of the year. From this, plot the data."
      ],
      "metadata": {
        "id": "r5-FFvv3tMAs"
      }
    },
    {
      "cell_type": "code",
      "source": [
        "df = pd.read_csv('births_modified.csv', header=0, index_col=0)\n",
        "births_data = df['births']\n",
        "plt.figure(figsize=(10, 6))\n",
        "births_data.plot(kind='line', colormap='tab20')\n",
        "plt.xlabel('Month')\n",
        "plt.ylabel('Average Births')\n",
        "plt.grid(True)\n",
        "plt.show()"
      ],
      "metadata": {
        "colab": {
          "base_uri": "https://localhost:8080/",
          "height": 542
        },
        "id": "-B7VOlx5tRNC",
        "outputId": "459a42ac-0f03-483b-d97b-26aa60e1475e"
      },
      "execution_count": 51,
      "outputs": [
        {
          "output_type": "display_data",
          "data": {
            "text/plain": [
              "<Figure size 1000x600 with 1 Axes>"
            ],
            "image/png": "[encoded data removed]"
          },
          "metadata": {}
        }
      ]
    }
  ]
}